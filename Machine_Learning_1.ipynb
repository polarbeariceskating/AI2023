{
  "nbformat": 4,
  "nbformat_minor": 0,
  "metadata": {
    "colab": {
      "provenance": [],
      "authorship_tag": "ABX9TyPSUa7vT8yqVaIPOsNNsefr",
      "include_colab_link": true
    },
    "kernelspec": {
      "name": "python3",
      "display_name": "Python 3"
    },
    "language_info": {
      "name": "python"
    }
  },
  "cells": [
    {
      "cell_type": "markdown",
      "metadata": {
        "id": "view-in-github",
        "colab_type": "text"
      },
      "source": [
        "<a href=\"https://colab.research.google.com/github/polarbeariceskating/AI2023/blob/main/Machine_Learning_1.ipynb\" target=\"_parent\"><img src=\"https://colab.research.google.com/assets/colab-badge.svg\" alt=\"Open In Colab\"/></a>"
      ]
    },
    {
      "cell_type": "code",
      "source": [
        "#unduh dataset dari kaggle\n",
        "#memerlukan kaggle.json untuk mendapatkan akses ke kaggle\n",
        "!pip install -q kaggle\n",
        "!mkdir ~/.kaggle\n",
        "!cp kaggle.json ~/.kaggle/\n",
        "!chmod 600 ~/.kaggle/kaggle.json"
      ],
      "metadata": {
        "colab": {
          "base_uri": "https://localhost:8080/"
        },
        "id": "2-aU1BlYonJM",
        "outputId": "6fc888a5-59bb-42c6-9fbd-a848a08a739f"
      },
      "execution_count": 4,
      "outputs": [
        {
          "output_type": "stream",
          "name": "stdout",
          "text": [
            "mkdir: cannot create directory ‘/root/.kaggle’: File exists\n"
          ]
        }
      ]
    },
    {
      "cell_type": "code",
      "source": [
        "#unduh dataset\n",
        "!kaggle datasets download -d akshaydattatraykhare/diabetes-dataset"
      ],
      "metadata": {
        "colab": {
          "base_uri": "https://localhost:8080/"
        },
        "id": "pGZxT3R3oj1f",
        "outputId": "08a7e03f-4ab8-4f93-99e9-a14fa185195c"
      },
      "execution_count": 5,
      "outputs": [
        {
          "output_type": "stream",
          "name": "stdout",
          "text": [
            "Downloading diabetes-dataset.zip to /content\n",
            "\r  0% 0.00/8.91k [00:00<?, ?B/s]\n",
            "\r100% 8.91k/8.91k [00:00<00:00, 19.6MB/s]\n"
          ]
        }
      ]
    },
    {
      "cell_type": "code",
      "source": [
        "#ekstrasi dataset yang sudah diunduh\n",
        "!unzip diabetes-dataset.zip"
      ],
      "metadata": {
        "colab": {
          "base_uri": "https://localhost:8080/"
        },
        "id": "VDf6GPgto3M3",
        "outputId": "9a073cb6-7942-4432-9cb4-a2fc8dea8933"
      },
      "execution_count": 47,
      "outputs": [
        {
          "output_type": "stream",
          "name": "stdout",
          "text": [
            "Archive:  diabetes-dataset.zip\n",
            "replace diabetes.csv? [y]es, [n]o, [A]ll, [N]one, [r]ename: A\n",
            "  inflating: diabetes.csv            \n"
          ]
        }
      ]
    },
    {
      "cell_type": "code",
      "execution_count": 84,
      "metadata": {
        "colab": {
          "base_uri": "https://localhost:8080/"
        },
        "id": "Rw_kQwZOgC4B",
        "outputId": "e6715f55-9664-4bf9-9712-57e9527e9ff1"
      },
      "outputs": [
        {
          "output_type": "stream",
          "name": "stdout",
          "text": [
            "Data Asli:\n",
            "     Pregnancies  Glucose  BloodPressure  SkinThickness  Insulin   BMI  \\\n",
            "0              6      148             72             35        0  33.6   \n",
            "1              1       85             66             29        0  26.6   \n",
            "2              8      183             64              0        0  23.3   \n",
            "3              1       89             66             23       94  28.1   \n",
            "4              0      137             40             35      168  43.1   \n",
            "..           ...      ...            ...            ...      ...   ...   \n",
            "763           10      101             76             48      180  32.9   \n",
            "764            2      122             70             27        0  36.8   \n",
            "765            5      121             72             23      112  26.2   \n",
            "766            1      126             60              0        0  30.1   \n",
            "767            1       93             70             31        0  30.4   \n",
            "\n",
            "     DiabetesPedigreeFunction  Age  Outcome  \n",
            "0                       0.627   50        1  \n",
            "1                       0.351   31        0  \n",
            "2                       0.672   32        1  \n",
            "3                       0.167   21        0  \n",
            "4                       2.288   33        1  \n",
            "..                        ...  ...      ...  \n",
            "763                     0.171   63        0  \n",
            "764                     0.340   27        0  \n",
            "765                     0.245   30        0  \n",
            "766                     0.349   47        1  \n",
            "767                     0.315   23        0  \n",
            "\n",
            "[768 rows x 9 columns]\n",
            "Data dengan Nilai yang Hilang\n",
            "=====================================================================\n",
            "     Pregnancies  Glucose  BloodPressure  SkinThickness  Insulin   BMI  \\\n",
            "0            6.0      NaN           72.0           35.0      0.0  33.6   \n",
            "1            NaN     85.0           66.0           29.0      NaN  26.6   \n",
            "2            8.0      NaN            NaN            0.0      0.0   NaN   \n",
            "3            1.0     89.0           66.0           23.0     94.0   NaN   \n",
            "4            0.0      NaN           40.0            NaN    168.0   NaN   \n",
            "..           ...      ...            ...            ...      ...   ...   \n",
            "763         10.0    101.0           76.0            NaN      NaN  32.9   \n",
            "764          NaN    122.0           70.0           27.0      0.0  36.8   \n",
            "765          5.0      NaN           72.0           23.0    112.0  26.2   \n",
            "766          1.0    126.0           60.0            0.0      0.0  30.1   \n",
            "767          1.0      NaN            NaN            NaN      NaN  30.4   \n",
            "\n",
            "     DiabetesPedigreeFunction   Age  Outcome  \n",
            "0                         NaN   NaN      NaN  \n",
            "1                         NaN   NaN      0.0  \n",
            "2                       0.672  32.0      1.0  \n",
            "3                       0.167   NaN      NaN  \n",
            "4                       2.288   NaN      NaN  \n",
            "..                        ...   ...      ...  \n",
            "763                     0.171  63.0      0.0  \n",
            "764                       NaN   NaN      0.0  \n",
            "765                       NaN  30.0      0.0  \n",
            "766                     0.349  47.0      1.0  \n",
            "767                     0.315  23.0      0.0  \n",
            "\n",
            "[768 rows x 9 columns]\n",
            "Data Setelah Di Cleaning\n",
            "=====================================================================\n",
            "     Pregnancies  Glucose  BloodPressure  SkinThickness  Insulin   BMI  \\\n",
            "11          10.0    168.0           74.0            0.0      0.0   NaN   \n",
            "12          10.0    139.0           80.0            0.0      0.0  27.1   \n",
            "19           1.0    115.0           70.0            NaN     96.0  34.6   \n",
            "20           3.0    126.0           88.0           41.0    235.0   NaN   \n",
            "32           3.0     88.0           58.0           11.0     54.0  24.8   \n",
            "..           ...      ...            ...            ...      ...   ...   \n",
            "746          1.0    147.0           94.0           41.0      0.0  49.3   \n",
            "747          1.0     81.0           74.0           41.0     57.0  46.3   \n",
            "750          4.0    136.0           70.0            NaN      0.0  31.2   \n",
            "755          1.0    128.0           88.0           39.0    110.0  36.5   \n",
            "766          1.0    126.0           60.0            0.0      0.0  30.1   \n",
            "\n",
            "     DiabetesPedigreeFunction   Age  Outcome  \n",
            "11                      0.537  34.0      1.0  \n",
            "12                      1.441  57.0      0.0  \n",
            "19                      0.529  32.0      1.0  \n",
            "20                      0.704  27.0      0.0  \n",
            "32                      0.267  22.0      NaN  \n",
            "..                        ...   ...      ...  \n",
            "746                     0.358  27.0      1.0  \n",
            "747                     1.096  32.0      0.0  \n",
            "750                     1.182  22.0      1.0  \n",
            "755                       NaN  37.0      1.0  \n",
            "766                     0.349  47.0      1.0  \n",
            "\n",
            "[162 rows x 9 columns]\n",
            "Data dengan Nilai yang Hilang\n",
            "=====================================================================\n",
            "     Pregnancies  Glucose  BloodPressure  SkinThickness  Insulin   BMI  \\\n",
            "0            6.0      NaN           72.0           35.0      0.0  33.6   \n",
            "1            NaN     85.0           66.0           29.0      NaN  26.6   \n",
            "2            8.0      NaN            NaN            0.0      0.0   NaN   \n",
            "3            1.0     89.0           66.0           23.0     94.0   NaN   \n",
            "4            0.0      NaN           40.0            NaN    168.0   NaN   \n",
            "..           ...      ...            ...            ...      ...   ...   \n",
            "763         10.0    101.0           76.0            NaN      NaN  32.9   \n",
            "764          NaN    122.0           70.0           27.0      0.0  36.8   \n",
            "765          5.0      NaN           72.0           23.0    112.0  26.2   \n",
            "766          1.0    126.0           60.0            0.0      0.0  30.1   \n",
            "767          1.0      NaN            NaN            NaN      NaN  30.4   \n",
            "\n",
            "     DiabetesPedigreeFunction   Age  Outcome  \n",
            "0                         NaN   NaN      NaN  \n",
            "1                         NaN   NaN      0.0  \n",
            "2                       0.672  32.0      1.0  \n",
            "3                       0.167   NaN      NaN  \n",
            "4                       2.288   NaN      NaN  \n",
            "..                        ...   ...      ...  \n",
            "763                     0.171  63.0      0.0  \n",
            "764                       NaN   NaN      0.0  \n",
            "765                       NaN  30.0      0.0  \n",
            "766                     0.349  47.0      1.0  \n",
            "767                     0.315  23.0      0.0  \n",
            "\n",
            "[768 rows x 9 columns]\n",
            "=====================================================================\n",
            "Data Setelah Di Median\n",
            "     Pregnancies  Glucose  BloodPressure  SkinThickness  Insulin   BMI  \\\n",
            "0            6.0    117.0           72.0           35.0      0.0  33.6   \n",
            "1            3.0     85.0           66.0           29.0     30.5  26.6   \n",
            "2            8.0    117.0           72.0            0.0      0.0  32.0   \n",
            "3            1.0     89.0           66.0           23.0     94.0  32.0   \n",
            "4            0.0    117.0           40.0           23.0    168.0  32.0   \n",
            "..           ...      ...            ...            ...      ...   ...   \n",
            "763         10.0    101.0           76.0           23.0     30.5  32.9   \n",
            "764          3.0    122.0           70.0           27.0      0.0  36.8   \n",
            "765          5.0    117.0           72.0           23.0    112.0  26.2   \n",
            "766          1.0    126.0           60.0            0.0      0.0  30.1   \n",
            "767          1.0    117.0           72.0           23.0     30.5  30.4   \n",
            "\n",
            "     DiabetesPedigreeFunction   Age  Outcome  \n",
            "0                      0.3725  29.0      0.0  \n",
            "1                      0.3725  29.0      0.0  \n",
            "2                      0.6720  32.0      1.0  \n",
            "3                      0.1670  29.0      0.0  \n",
            "4                      2.2880  29.0      0.0  \n",
            "..                        ...   ...      ...  \n",
            "763                    0.1710  63.0      0.0  \n",
            "764                    0.3725  29.0      0.0  \n",
            "765                    0.3725  30.0      0.0  \n",
            "766                    0.3490  47.0      1.0  \n",
            "767                    0.3150  23.0      0.0  \n",
            "\n",
            "[768 rows x 9 columns]\n",
            "=====================================================================\n",
            "Data Setelah Di Mean\n",
            "     Pregnancies     Glucose  BloodPressure  SkinThickness     Insulin  \\\n",
            "0       6.000000  120.894531      72.000000      35.000000    0.000000   \n",
            "1       3.845052   85.000000      66.000000      29.000000   79.799479   \n",
            "2       8.000000  120.894531      69.105469       0.000000    0.000000   \n",
            "3       1.000000   89.000000      66.000000      23.000000   94.000000   \n",
            "4       0.000000  120.894531      40.000000      20.536458  168.000000   \n",
            "..           ...         ...            ...            ...         ...   \n",
            "763    10.000000  101.000000      76.000000      20.536458   79.799479   \n",
            "764     3.845052  122.000000      70.000000      27.000000    0.000000   \n",
            "765     5.000000  120.894531      72.000000      23.000000  112.000000   \n",
            "766     1.000000  126.000000      60.000000       0.000000    0.000000   \n",
            "767     1.000000  120.894531      69.105469      20.536458   79.799479   \n",
            "\n",
            "           BMI  DiabetesPedigreeFunction        Age   Outcome  \n",
            "0    33.600000                  0.471876  33.240885  0.348958  \n",
            "1    26.600000                  0.471876  33.240885  0.000000  \n",
            "2    31.992578                  0.672000  32.000000  1.000000  \n",
            "3    31.992578                  0.167000  33.240885  0.348958  \n",
            "4    31.992578                  2.288000  33.240885  0.348958  \n",
            "..         ...                       ...        ...       ...  \n",
            "763  32.900000                  0.171000  63.000000  0.000000  \n",
            "764  36.800000                  0.471876  33.240885  0.000000  \n",
            "765  26.200000                  0.471876  30.000000  0.000000  \n",
            "766  30.100000                  0.349000  47.000000  1.000000  \n",
            "767  30.400000                  0.315000  23.000000  0.000000  \n",
            "\n",
            "[768 rows x 9 columns]\n",
            "Data dengan Nilai yang Hilang\n",
            "=====================================================================\n",
            "     Pregnancies  Glucose  BloodPressure  SkinThickness  Insulin   BMI  \\\n",
            "0            6.0      NaN           72.0           35.0      0.0  33.6   \n",
            "1            NaN     85.0           66.0           29.0      NaN  26.6   \n",
            "2            8.0      NaN            NaN            0.0      0.0   NaN   \n",
            "3            1.0     89.0           66.0           23.0     94.0   NaN   \n",
            "4            0.0      NaN           40.0            NaN    168.0   NaN   \n",
            "..           ...      ...            ...            ...      ...   ...   \n",
            "763         10.0    101.0           76.0            NaN      NaN  32.9   \n",
            "764          NaN    122.0           70.0           27.0      0.0  36.8   \n",
            "765          5.0      NaN           72.0           23.0    112.0  26.2   \n",
            "766          1.0    126.0           60.0            0.0      0.0  30.1   \n",
            "767          1.0      NaN            NaN            NaN      NaN  30.4   \n",
            "\n",
            "     DiabetesPedigreeFunction   Age  Outcome  \n",
            "0                         NaN   NaN      NaN  \n",
            "1                         NaN   NaN      0.0  \n",
            "2                       0.672  32.0      1.0  \n",
            "3                       0.167   NaN      NaN  \n",
            "4                       2.288   NaN      NaN  \n",
            "..                        ...   ...      ...  \n",
            "763                     0.171  63.0      0.0  \n",
            "764                       NaN   NaN      0.0  \n",
            "765                       NaN  30.0      0.0  \n",
            "766                     0.349  47.0      1.0  \n",
            "767                     0.315  23.0      0.0  \n",
            "\n",
            "[768 rows x 9 columns]\n",
            "Data Setelah maximum occurred value pada kolom Glucose\n",
            "=====================================================================\n",
            "     Pregnancies  Glucose  BloodPressure  SkinThickness  Insulin   BMI  \\\n",
            "0            6.0     99.0           72.0           35.0      0.0  33.6   \n",
            "1            NaN     85.0           66.0           29.0      NaN  26.6   \n",
            "2            8.0     99.0            NaN            0.0      0.0   NaN   \n",
            "3            1.0     89.0           66.0           23.0     94.0   NaN   \n",
            "4            0.0     99.0           40.0            NaN    168.0   NaN   \n",
            "..           ...      ...            ...            ...      ...   ...   \n",
            "763         10.0    101.0           76.0            NaN      NaN  32.9   \n",
            "764          NaN    122.0           70.0           27.0      0.0  36.8   \n",
            "765          5.0     99.0           72.0           23.0    112.0  26.2   \n",
            "766          1.0    126.0           60.0            0.0      0.0  30.1   \n",
            "767          1.0     99.0            NaN            NaN      NaN  30.4   \n",
            "\n",
            "     DiabetesPedigreeFunction   Age  Outcome  \n",
            "0                         NaN   NaN      NaN  \n",
            "1                         NaN   NaN      0.0  \n",
            "2                       0.672  32.0      1.0  \n",
            "3                       0.167   NaN      NaN  \n",
            "4                       2.288   NaN      NaN  \n",
            "..                        ...   ...      ...  \n",
            "763                     0.171  63.0      0.0  \n",
            "764                       NaN   NaN      0.0  \n",
            "765                       NaN  30.0      0.0  \n",
            "766                     0.349  47.0      1.0  \n",
            "767                     0.315  23.0      0.0  \n",
            "\n",
            "[768 rows x 9 columns]\n"
          ]
        }
      ],
      "source": [
        "# import packages\n",
        "import numpy as np\n",
        "import pandas as pd\n",
        "\n",
        "# read dataset\n",
        "data = pd.read_csv('diabetes.csv')\n",
        "print(\"Data Asli:\")\n",
        "print(data)\n",
        "\n",
        "print(\"Data dengan Nilai yang Hilang\")\n",
        "print(\"=====================================================================\")\n",
        "# code agar data ada yang hilang\n",
        "random_mask = np.random.rand(data.shape[0], data.shape[1]) < 0.3\n",
        "data_hilang = data.copy()  # Buat salinan dataset untuk data dengan nilai yang hilang\n",
        "data_hilang[random_mask] = np.nan\n",
        "print(data_hilang)\n",
        "\n",
        "# set threshold\n",
        "print(\"Data Setelah Di Cleaning\")\n",
        "print(\"=====================================================================\")\n",
        "threshold = 0.9\n",
        "data_cleaning = data_hilang.dropna(thresh=int(data_hilang.shape[1] * threshold))\n",
        "print(data_cleaning)\n",
        "\n",
        "print(\"Data dengan Nilai yang Hilang\")\n",
        "print(\"=====================================================================\")\n",
        "print(data_hilang)\n",
        "print(\"=====================================================================\")\n",
        "print(\"Data Setelah Di Median\")\n",
        "# filling missing values with medians of the columns\n",
        "data_medians = data_hilang.fillna(data.median())\n",
        "print(data_medians)\n",
        "print(\"=====================================================================\")\n",
        "print(\"Data Setelah Di Mean\")\n",
        "# filling missing values with medians of the columns\n",
        "data_mean = data_hilang.fillna(data.mean())\n",
        "print(data_mean)\n",
        "\n",
        "print(\"Data dengan Nilai yang Hilang\")\n",
        "print(\"=====================================================================\")\n",
        "print(data_hilang)\n",
        "print(\"Data Setelah maximum occurred value pada kolom Glucose\")\n",
        "print(\"=====================================================================\")\n",
        "# filling missing values with medians of the columns\n",
        "data_maximum_occurred_value = data_hilang.fillna({'Glucose': data_hilang['Glucose'].mode().iloc[0]})\n",
        "print(data_maximum_occurred_value )\n",
        "\n",
        "\n"
      ]
    },
    {
      "cell_type": "code",
      "source": [
        "# Min-Max Normalization\n",
        "from sklearn.preprocessing import MinMaxScaler\n",
        "import numpy as np\n",
        "\n",
        "#baca dataset\n",
        "data = pd.read_csv('diabetes.csv')\n",
        "print(\"Data Asli:\")\n",
        "print(\"=====================================================================\")\n",
        "print(data)\n",
        "\n",
        "# create scaler method\n",
        "scaler = MinMaxScaler(feature_range=(0,1))\n",
        "\n",
        "# fit and transform the data\n",
        "scaled_data = scaler.fit_transform(data)\n",
        "print(\"Data Scaled:\")\n",
        "print(\"=====================================================================\")\n",
        "print(scaled_data)\n"
      ],
      "metadata": {
        "colab": {
          "base_uri": "https://localhost:8080/"
        },
        "id": "O_evf0OA-xaI",
        "outputId": "a98abc97-21b0-4179-c6d7-d4ac7f622dd5"
      },
      "execution_count": 104,
      "outputs": [
        {
          "output_type": "stream",
          "name": "stdout",
          "text": [
            "Data Asli:\n",
            "=====================================================================\n",
            "     Pregnancies  Glucose  BloodPressure  SkinThickness  Insulin   BMI  \\\n",
            "0              6      148             72             35        0  33.6   \n",
            "1              1       85             66             29        0  26.6   \n",
            "2              8      183             64              0        0  23.3   \n",
            "3              1       89             66             23       94  28.1   \n",
            "4              0      137             40             35      168  43.1   \n",
            "..           ...      ...            ...            ...      ...   ...   \n",
            "763           10      101             76             48      180  32.9   \n",
            "764            2      122             70             27        0  36.8   \n",
            "765            5      121             72             23      112  26.2   \n",
            "766            1      126             60              0        0  30.1   \n",
            "767            1       93             70             31        0  30.4   \n",
            "\n",
            "     DiabetesPedigreeFunction  Age  Outcome  \n",
            "0                       0.627   50        1  \n",
            "1                       0.351   31        0  \n",
            "2                       0.672   32        1  \n",
            "3                       0.167   21        0  \n",
            "4                       2.288   33        1  \n",
            "..                        ...  ...      ...  \n",
            "763                     0.171   63        0  \n",
            "764                     0.340   27        0  \n",
            "765                     0.245   30        0  \n",
            "766                     0.349   47        1  \n",
            "767                     0.315   23        0  \n",
            "\n",
            "[768 rows x 9 columns]\n",
            "Data Scaled:\n",
            "=====================================================================\n",
            "[[0.35294118 0.74371859 0.59016393 ... 0.23441503 0.48333333 1.        ]\n",
            " [0.05882353 0.42713568 0.54098361 ... 0.11656704 0.16666667 0.        ]\n",
            " [0.47058824 0.91959799 0.52459016 ... 0.25362938 0.18333333 1.        ]\n",
            " ...\n",
            " [0.29411765 0.6080402  0.59016393 ... 0.07130658 0.15       0.        ]\n",
            " [0.05882353 0.63316583 0.49180328 ... 0.11571307 0.43333333 1.        ]\n",
            " [0.05882353 0.46733668 0.57377049 ... 0.10119556 0.03333333 0.        ]]\n"
          ]
        }
      ]
    },
    {
      "cell_type": "code",
      "source": [
        "# Standardization\n",
        "from sklearn.preprocessing import StandardScaler\n",
        "import numpy as np\n",
        "\n",
        "# 4 samples/observations and 2 variables/features\n",
        "data = np.array([[4, 1], [11, 1], [10, 4], [1, 11]])\n",
        "\n",
        "# create scaler method\n",
        "scaler = StandardScaler()\n",
        "\n",
        "# fit and transform the data\n",
        "scaled_data = scaler.fit_transform(data)\n",
        "\n",
        "print(scaled_data)\n",
        "print(\"=====================================================================\")\n",
        "print(scaled_data.mean(axis=0))\n",
        "print(\"=====================================================================\")\n",
        "print(scaled_data.std(axis=0))"
      ],
      "metadata": {
        "colab": {
          "base_uri": "https://localhost:8080/"
        },
        "id": "vYg_jj4b-9pa",
        "outputId": "c279b0a7-c586-47b9-bc56-7b93b7d03315"
      },
      "execution_count": 72,
      "outputs": [
        {
          "output_type": "stream",
          "name": "stdout",
          "text": [
            "[[-0.60192927 -0.79558708]\n",
            " [ 1.08347268 -0.79558708]\n",
            " [ 0.84270097 -0.06119901]\n",
            " [-1.32424438  1.65237317]]\n",
            "=====================================================================\n",
            "[0. 0.]\n",
            "=====================================================================\n",
            "[1. 1.]\n"
          ]
        }
      ]
    },
    {
      "cell_type": "code",
      "source": [
        "# Label Encoding\n",
        "#unduh dataset\n",
        "!kaggle datasets download -d mirichoi0218/insurance"
      ],
      "metadata": {
        "colab": {
          "base_uri": "https://localhost:8080/"
        },
        "id": "3BevF2Gu_b4a",
        "outputId": "2c773718-04d7-4bff-fc14-b889c96f3081"
      },
      "execution_count": 91,
      "outputs": [
        {
          "output_type": "stream",
          "name": "stdout",
          "text": [
            "Downloading insurance.zip to /content\n",
            "\r  0% 0.00/16.0k [00:00<?, ?B/s]\n",
            "\r100% 16.0k/16.0k [00:00<00:00, 10.3MB/s]\n"
          ]
        }
      ]
    },
    {
      "cell_type": "code",
      "source": [
        "#ekstrasi dataset yang sudah diunduh\n",
        "!unzip  insurance.zip"
      ],
      "metadata": {
        "colab": {
          "base_uri": "https://localhost:8080/"
        },
        "id": "Q6P7m7o9EDoz",
        "outputId": "746a0aa8-9096-42d0-96fd-35f21048c931"
      },
      "execution_count": 92,
      "outputs": [
        {
          "output_type": "stream",
          "name": "stdout",
          "text": [
            "Archive:  insurance.zip\n",
            "  inflating: insurance.csv           \n"
          ]
        }
      ]
    },
    {
      "cell_type": "code",
      "source": [
        "# import packages\n",
        "import numpy as np\n",
        "import pandas as pd\n",
        "from sklearn.preprocessing import LabelEncoder\n",
        "\n",
        "# baca data\n",
        "data = pd.read_csv('insurance.csv')\n",
        "print(\"Data Asli:\")\n",
        "print(\"=====================================================================\")\n",
        "print(data)\n",
        "\n",
        "# Mengecek nama kolom\n",
        "print(data.columns)\n",
        "data = pd.get_dummies(data, columns = ['sex','smoker'])\n",
        "print(\"Data Encoding:\")\n",
        "print(\"=====================================================================\")\n",
        "print(data)"
      ],
      "metadata": {
        "colab": {
          "base_uri": "https://localhost:8080/"
        },
        "id": "Rhf4D-7UEGgQ",
        "outputId": "300e835d-5981-4399-81de-c5c245e04960"
      },
      "execution_count": 98,
      "outputs": [
        {
          "output_type": "stream",
          "name": "stdout",
          "text": [
            "Data Asli:\n",
            "=====================================================================\n",
            "      age     sex     bmi  children smoker     region      charges\n",
            "0      19  female  27.900         0    yes  southwest  16884.92400\n",
            "1      18    male  33.770         1     no  southeast   1725.55230\n",
            "2      28    male  33.000         3     no  southeast   4449.46200\n",
            "3      33    male  22.705         0     no  northwest  21984.47061\n",
            "4      32    male  28.880         0     no  northwest   3866.85520\n",
            "...   ...     ...     ...       ...    ...        ...          ...\n",
            "1333   50    male  30.970         3     no  northwest  10600.54830\n",
            "1334   18  female  31.920         0     no  northeast   2205.98080\n",
            "1335   18  female  36.850         0     no  southeast   1629.83350\n",
            "1336   21  female  25.800         0     no  southwest   2007.94500\n",
            "1337   61  female  29.070         0    yes  northwest  29141.36030\n",
            "\n",
            "[1338 rows x 7 columns]\n",
            "Index(['age', 'sex', 'bmi', 'children', 'smoker', 'region', 'charges'], dtype='object')\n",
            "Data Encoding:\n",
            "=====================================================================\n",
            "      age     bmi  children     region      charges  sex_female  sex_male  \\\n",
            "0      19  27.900         0  southwest  16884.92400           1         0   \n",
            "1      18  33.770         1  southeast   1725.55230           0         1   \n",
            "2      28  33.000         3  southeast   4449.46200           0         1   \n",
            "3      33  22.705         0  northwest  21984.47061           0         1   \n",
            "4      32  28.880         0  northwest   3866.85520           0         1   \n",
            "...   ...     ...       ...        ...          ...         ...       ...   \n",
            "1333   50  30.970         3  northwest  10600.54830           0         1   \n",
            "1334   18  31.920         0  northeast   2205.98080           1         0   \n",
            "1335   18  36.850         0  southeast   1629.83350           1         0   \n",
            "1336   21  25.800         0  southwest   2007.94500           1         0   \n",
            "1337   61  29.070         0  northwest  29141.36030           1         0   \n",
            "\n",
            "      smoker_no  smoker_yes  \n",
            "0             0           1  \n",
            "1             1           0  \n",
            "2             1           0  \n",
            "3             1           0  \n",
            "4             1           0  \n",
            "...         ...         ...  \n",
            "1333          1           0  \n",
            "1334          1           0  \n",
            "1335          1           0  \n",
            "1336          1           0  \n",
            "1337          0           1  \n",
            "\n",
            "[1338 rows x 9 columns]\n"
          ]
        }
      ]
    },
    {
      "cell_type": "code",
      "source": [
        "# One-hot-encoding\n",
        "# import packages\n",
        "import numpy as np\n",
        "from sklearn.preprocessing import OneHotEncoder, LabelEncoder\n",
        "\n",
        "# baca data\n",
        "data = pd.read_csv('insurance.csv')\n",
        "print(\"Data Asli:\")\n",
        "print(\"=====================================================================\")\n",
        "print(data)\n",
        "\n",
        "# Pilih kolom-kolom yang ingin Anda one-hot encode\n",
        "categorical_columns = ['sex', 'smoker']\n",
        "\n",
        "# Terapkan Label Encoding pada kolom-kolom kategori\n",
        "label_encoder = LabelEncoder()\n",
        "for column in categorical_columns:\n",
        "    data[column] = label_encoder.fit_transform(data[column])\n",
        "\n",
        "# Terapkan One-Hot Encoding pada kolom-kolom yang telah Anda label encode\n",
        "onehot_encoder = OneHotEncoder(sparse_output=False, drop='first')\n",
        "onehot_encoded = onehot_encoder.fit_transform(data[categorical_columns])\n",
        "\n",
        "# Gabungkan hasil One-Hot Encoding dengan DataFrame asli\n",
        "data_encoded = pd.concat([data.drop(columns=categorical_columns), pd.DataFrame(onehot_encoded)], axis=1)\n",
        "\n",
        "# Tampilkan hasil\n",
        "print(\"Data Setelah One-Hot Encoding:\")\n",
        "print(\"=====================================================================\")\n",
        "print(data_encoded)"
      ],
      "metadata": {
        "colab": {
          "base_uri": "https://localhost:8080/"
        },
        "id": "JF6wUA6Z_i-z",
        "outputId": "f41fc97e-28c5-443c-a1fb-4305c948b56e"
      },
      "execution_count": 102,
      "outputs": [
        {
          "output_type": "stream",
          "name": "stdout",
          "text": [
            "Data Asli:\n",
            "=====================================================================\n",
            "      age     sex     bmi  children smoker     region      charges\n",
            "0      19  female  27.900         0    yes  southwest  16884.92400\n",
            "1      18    male  33.770         1     no  southeast   1725.55230\n",
            "2      28    male  33.000         3     no  southeast   4449.46200\n",
            "3      33    male  22.705         0     no  northwest  21984.47061\n",
            "4      32    male  28.880         0     no  northwest   3866.85520\n",
            "...   ...     ...     ...       ...    ...        ...          ...\n",
            "1333   50    male  30.970         3     no  northwest  10600.54830\n",
            "1334   18  female  31.920         0     no  northeast   2205.98080\n",
            "1335   18  female  36.850         0     no  southeast   1629.83350\n",
            "1336   21  female  25.800         0     no  southwest   2007.94500\n",
            "1337   61  female  29.070         0    yes  northwest  29141.36030\n",
            "\n",
            "[1338 rows x 7 columns]\n",
            "Data Setelah One-Hot Encoding:\n",
            "=====================================================================\n",
            "      age     bmi  children     region      charges    0    1\n",
            "0      19  27.900         0  southwest  16884.92400  0.0  1.0\n",
            "1      18  33.770         1  southeast   1725.55230  1.0  0.0\n",
            "2      28  33.000         3  southeast   4449.46200  1.0  0.0\n",
            "3      33  22.705         0  northwest  21984.47061  1.0  0.0\n",
            "4      32  28.880         0  northwest   3866.85520  1.0  0.0\n",
            "...   ...     ...       ...        ...          ...  ...  ...\n",
            "1333   50  30.970         3  northwest  10600.54830  1.0  0.0\n",
            "1334   18  31.920         0  northeast   2205.98080  0.0  0.0\n",
            "1335   18  36.850         0  southeast   1629.83350  0.0  0.0\n",
            "1336   21  25.800         0  southwest   2007.94500  0.0  0.0\n",
            "1337   61  29.070         0  northwest  29141.36030  0.0  1.0\n",
            "\n",
            "[1338 rows x 7 columns]\n"
          ]
        }
      ]
    },
    {
      "cell_type": "code",
      "source": [
        "#Univariate Selection\n",
        "# Load packages\n",
        "from sklearn.datasets import load_iris\n",
        "from sklearn.feature_selection import SelectKBest\n",
        "from sklearn.feature_selection import chi2\n",
        "\n",
        "# Load iris data\n",
        "iris_dataset = load_iris()\n",
        "print(iris_dataset.DESCR)\n",
        "print(\"=====================================================================\")\n",
        "print(\"=====================================================================\")\n",
        "\n",
        "# Create features and target\n",
        "X = iris_dataset.data\n",
        "y = iris_dataset.target\n",
        "\n",
        "# Convert to categorical data by converting data to integers\n",
        "X = X.astype(int)\n",
        "\n",
        "# Two features with highest chi-squared statistics are selected\n",
        "chi2_features = SelectKBest(chi2, k = 2)\n",
        "X_kbest_features = chi2_features.fit_transform(X, y)\n",
        "\n",
        "# Reduced features\n",
        "print('Original feature number:', X.shape[1]) #awalnya dataset iris memiliki 4 fitur numerik\n",
        "print('Reduced feature number:', X_kbest_features.shape[1]) #menunjukkan bahwa setelah menjalankan seleksi fitur, hanya 2 fitur yang dipilih berdasarkan kriteria yang ditentukan"
      ],
      "metadata": {
        "colab": {
          "base_uri": "https://localhost:8080/"
        },
        "id": "dH_ZUS4p_mZf",
        "outputId": "caa5177c-2efe-4a46-86be-f012dc59cded"
      },
      "execution_count": 109,
      "outputs": [
        {
          "output_type": "stream",
          "name": "stdout",
          "text": [
            ".. _iris_dataset:\n",
            "\n",
            "Iris plants dataset\n",
            "--------------------\n",
            "\n",
            "**Data Set Characteristics:**\n",
            "\n",
            "    :Number of Instances: 150 (50 in each of three classes)\n",
            "    :Number of Attributes: 4 numeric, predictive attributes and the class\n",
            "    :Attribute Information:\n",
            "        - sepal length in cm\n",
            "        - sepal width in cm\n",
            "        - petal length in cm\n",
            "        - petal width in cm\n",
            "        - class:\n",
            "                - Iris-Setosa\n",
            "                - Iris-Versicolour\n",
            "                - Iris-Virginica\n",
            "                \n",
            "    :Summary Statistics:\n",
            "\n",
            "    ============== ==== ==== ======= ===== ====================\n",
            "                    Min  Max   Mean    SD   Class Correlation\n",
            "    ============== ==== ==== ======= ===== ====================\n",
            "    sepal length:   4.3  7.9   5.84   0.83    0.7826\n",
            "    sepal width:    2.0  4.4   3.05   0.43   -0.4194\n",
            "    petal length:   1.0  6.9   3.76   1.76    0.9490  (high!)\n",
            "    petal width:    0.1  2.5   1.20   0.76    0.9565  (high!)\n",
            "    ============== ==== ==== ======= ===== ====================\n",
            "\n",
            "    :Missing Attribute Values: None\n",
            "    :Class Distribution: 33.3% for each of 3 classes.\n",
            "    :Creator: R.A. Fisher\n",
            "    :Donor: Michael Marshall (MARSHALL%PLU@io.arc.nasa.gov)\n",
            "    :Date: July, 1988\n",
            "\n",
            "The famous Iris database, first used by Sir R.A. Fisher. The dataset is taken\n",
            "from Fisher's paper. Note that it's the same as in R, but not as in the UCI\n",
            "Machine Learning Repository, which has two wrong data points.\n",
            "\n",
            "This is perhaps the best known database to be found in the\n",
            "pattern recognition literature.  Fisher's paper is a classic in the field and\n",
            "is referenced frequently to this day.  (See Duda & Hart, for example.)  The\n",
            "data set contains 3 classes of 50 instances each, where each class refers to a\n",
            "type of iris plant.  One class is linearly separable from the other 2; the\n",
            "latter are NOT linearly separable from each other.\n",
            "\n",
            ".. topic:: References\n",
            "\n",
            "   - Fisher, R.A. \"The use of multiple measurements in taxonomic problems\"\n",
            "     Annual Eugenics, 7, Part II, 179-188 (1936); also in \"Contributions to\n",
            "     Mathematical Statistics\" (John Wiley, NY, 1950).\n",
            "   - Duda, R.O., & Hart, P.E. (1973) Pattern Classification and Scene Analysis.\n",
            "     (Q327.D83) John Wiley & Sons.  ISBN 0-471-22361-1.  See page 218.\n",
            "   - Dasarathy, B.V. (1980) \"Nosing Around the Neighborhood: A New System\n",
            "     Structure and Classification Rule for Recognition in Partially Exposed\n",
            "     Environments\".  IEEE Transactions on Pattern Analysis and Machine\n",
            "     Intelligence, Vol. PAMI-2, No. 1, 67-71.\n",
            "   - Gates, G.W. (1972) \"The Reduced Nearest Neighbor Rule\".  IEEE Transactions\n",
            "     on Information Theory, May 1972, 431-433.\n",
            "   - See also: 1988 MLC Proceedings, 54-64.  Cheeseman et al\"s AUTOCLASS II\n",
            "     conceptual clustering system finds 3 classes in the data.\n",
            "   - Many, many more ...\n",
            "=====================================================================\n",
            "=====================================================================\n",
            "Original feature number: 4\n",
            "Reduced feature number: 2\n"
          ]
        }
      ]
    },
    {
      "cell_type": "code",
      "source": [
        "#Feature Importance\n",
        "# Load libraries\n",
        "from sklearn.datasets import load_iris\n",
        "import matplotlib.pyplot as plt\n",
        "from sklearn.ensemble import ExtraTreesClassifier\n",
        "\n",
        "# Load iris data\n",
        "iris_dataset = load_iris()\n",
        "\n",
        "# Create features and target\n",
        "X = iris_dataset.data\n",
        "y = iris_dataset.target\n",
        "\n",
        "# Convert to categorical data by converting data to integers\n",
        "X = X.astype(int)\n",
        "\n",
        " # Building the model\n",
        "extra_tree_forest = ExtraTreesClassifier(n_estimators = 5,\n",
        "                                        criterion ='entropy', max_features = 2)\n",
        "\n",
        "# Training the model\n",
        "extra_tree_forest.fit(X, y)\n",
        "\n",
        "# Computing the importance of each feature\n",
        "feature_importance = extra_tree_forest.feature_importances_\n",
        "\n",
        "# Normalizing the individual importances\n",
        "feature_importance_normalized = np.std([tree.feature_importances_ for tree in\n",
        "                                        extra_tree_forest.estimators_],\n",
        "                                        axis = 0)\n",
        "\n",
        "# Plotting a Bar Graph to compare the models\n",
        "plt.bar(iris_dataset.feature_names, feature_importance_normalized)\n",
        "plt.xlabel('Feature Labels')\n",
        "plt.ylabel('Feature Importances')\n",
        "plt.title('Comparison of different Feature Importances')\n",
        "plt.show()"
      ],
      "metadata": {
        "colab": {
          "base_uri": "https://localhost:8080/",
          "height": 472
        },
        "id": "y3tE81O0_pkU",
        "outputId": "ae2dee5e-1790-4a55-f7f6-6eea553ca914"
      },
      "execution_count": 77,
      "outputs": [
        {
          "output_type": "display_data",
          "data": {
            "text/plain": [
              "<Figure size 640x480 with 1 Axes>"
            ],
            "image/png": "[encoded data removed]"
          },
          "metadata": {}
        }
      ]
    },
    {
      "cell_type": "code",
      "source": [
        "# Correlation Matrix Heatmap\n",
        "#Load libraries\n",
        "#from sklearn.datasets import load_boston (fungsi load_boston sudah di hapus)\n",
        "from sklearn.datasets import load_iris\n",
        "import matplotlib.pyplot as plt\n",
        "import seaborn as sns\n",
        "\n",
        "# Load iris data\n",
        "iris_dataset = load_iris()\n",
        "\n",
        "# create a daframe for boston data\n",
        "iris = pd.DataFrame(iris_dataset.data, columns=iris_dataset.feature_names)\n",
        "\n",
        "# Convert to categorical data by converting data to integers\n",
        "#X = X.astype(int)\n",
        "\n",
        "#ploting the heatmap for correlation\n",
        "ax = sns.heatmap(iris.corr().round(2), annot=True)\n",
        "\n"
      ],
      "metadata": {
        "colab": {
          "base_uri": "https://localhost:8080/",
          "height": 543
        },
        "id": "MGuyQoXz_sbv",
        "outputId": "905f24de-a3ed-4e15-d0df-f90ff06e8f4f"
      },
      "execution_count": 110,
      "outputs": [
        {
          "output_type": "display_data",
          "data": {
            "text/plain": [
              "<Figure size 640x480 with 2 Axes>"
            ],
            "image/png": "[encoded data removed]"
          },
          "metadata": {}
        }
      ]
    }
  ]
}