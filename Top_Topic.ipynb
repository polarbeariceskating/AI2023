{
  "nbformat": 4,
  "nbformat_minor": 0,
  "metadata": {
    "colab": {
      "provenance": [],
      "authorship_tag": "ABX9TyNT3msQ1GeME6QblcgLJgCi",
      "include_colab_link": true
    },
    "kernelspec": {
      "name": "python3",
      "display_name": "Python 3"
    },
    "language_info": {
      "name": "python"
    }
  },
  "cells": [
    {
      "cell_type": "markdown",
      "metadata": {
        "id": "view-in-github",
        "colab_type": "text"
      },
      "source": [
        "<a href=\"https://colab.research.google.com/github/polarbeariceskating/KonsepData-AI/blob/main/Top_Topic.ipynb\" target=\"_parent\"><img src=\"https://colab.research.google.com/assets/colab-badge.svg\" alt=\"Open In Colab\"/></a>"
      ]
    },
    {
      "cell_type": "code",
      "execution_count": 7,
      "metadata": {
        "colab": {
          "base_uri": "https://localhost:8080/"
        },
        "id": "_4h38JRbBzNi",
        "outputId": "8d48c350-439d-49f0-b341-8ca08ca4de53"
      },
      "outputs": [
        {
          "output_type": "stream",
          "name": "stdout",
          "text": [
            "Collecting lda\n",
            "  Downloading lda-2.0.0.tar.gz (320 kB)\n",
            "\u001b[2K     \u001b[90m━━━━━━━━━━━━━━━━━━━━━━━━━━━━━━━━━━━━━━━━\u001b[0m \u001b[32m320.9/320.9 kB\u001b[0m \u001b[31m5.9 MB/s\u001b[0m eta \u001b[36m0:00:00\u001b[0m\n",
            "\u001b[?25h  Preparing metadata (setup.py) ... \u001b[?25l\u001b[?25hdone\n",
            "Collecting pbr<4,>=0.6 (from lda)\n",
            "  Downloading pbr-3.1.1-py2.py3-none-any.whl (99 kB)\n",
            "\u001b[2K     \u001b[90m━━━━━━━━━━━━━━━━━━━━━━━━━━━━━━━━━━━━━━━━\u001b[0m \u001b[32m99.7/99.7 kB\u001b[0m \u001b[31m7.3 MB/s\u001b[0m eta \u001b[36m0:00:00\u001b[0m\n",
            "\u001b[?25hRequirement already satisfied: numpy<2.0,>=1.13.0 in /usr/local/lib/python3.10/dist-packages (from lda) (1.23.5)\n",
            "Building wheels for collected packages: lda\n",
            "  Building wheel for lda (setup.py) ... \u001b[?25l\u001b[?25hdone\n",
            "  Created wheel for lda: filename=lda-2.0.0-cp310-cp310-linux_x86_64.whl size=594247 sha256=432b04b82499b3543f1c440423a488ae1fbfc114931ff18687d65a7fae54c24e\n",
            "  Stored in directory: /root/.cache/pip/wheels/9d/32/fa/07fdf278a0b24269ce4d0be3d642c28dd0e888a4c5f2031279\n",
            "Successfully built lda\n",
            "Installing collected packages: pbr, lda\n",
            "Successfully installed lda-2.0.0 pbr-3.1.1\n"
          ]
        }
      ],
      "source": [
        "pip install lda"
      ]
    },
    {
      "cell_type": "code",
      "source": [
        "\n",
        ">>> import numpy as np\n",
        ">>> import lda\n",
        ">>> import lda.datasets\n",
        ">>> X = lda.datasets.load_reuters()\n",
        ">>> vocab = lda.datasets.load_reuters_vocab()\n",
        ">>> titles = lda.datasets.load_reuters_titles()\n",
        ">>> X.shape\n",
        ">>> X.sum()\n",
        ">>> model = lda.LDA(n_topics=20, n_iter=1500, random_state=1)\n",
        ">>> model.fit(X)  # model.fit_transform(X) is also available\n",
        ">>> topic_word = model.topic_word_  # model.components_ also works\n",
        ">>> n_top_words = 8\n",
        ">>> for i, topic_dist in enumerate(topic_word):\n",
        "...     topic_words = np.array(vocab)[np.argsort(topic_dist)][:-(n_top_words+1):-1]\n",
        "...     print('Topic {}: {}'.format(i, ' '.join(topic_words)))"
      ],
      "metadata": {
        "colab": {
          "base_uri": "https://localhost:8080/"
        },
        "id": "E81ku0fLDjlj",
        "outputId": "2fbbdde4-e4aa-4e13-8017-f28c1de4ef96"
      },
      "execution_count": 8,
      "outputs": [
        {
          "output_type": "stream",
          "name": "stdout",
          "text": [
            "Topic 0: british churchill sale million major letters west britain\n",
            "Topic 1: church government political country state people party against\n",
            "Topic 2: elvis king fans presley life concert young death\n",
            "Topic 3: yeltsin russian russia president kremlin moscow michael operation\n",
            "Topic 4: pope vatican paul john surgery hospital pontiff rome\n",
            "Topic 5: family funeral police miami versace cunanan city service\n",
            "Topic 6: simpson former years court president wife south church\n",
            "Topic 7: order mother successor election nuns church nirmala head\n",
            "Topic 8: charles prince diana royal king queen parker bowles\n",
            "Topic 9: film french france against bardot paris poster animal\n",
            "Topic 10: germany german war nazi letter christian book jews\n",
            "Topic 11: east peace prize award timor quebec belo leader\n",
            "Topic 12: n't life show told very love television father\n",
            "Topic 13: years year time last church world people say\n",
            "Topic 14: mother teresa heart calcutta charity nun hospital missionaries\n",
            "Topic 15: city salonika capital buddhist cultural vietnam byzantine show\n",
            "Topic 16: music tour opera singer israel people film israeli\n",
            "Topic 17: church catholic bernardin cardinal bishop wright death cancer\n",
            "Topic 18: harriman clinton u.s ambassador paris president churchill france\n",
            "Topic 19: city museum art exhibition century million churches set\n"
          ]
        }
      ]
    },
    {
      "cell_type": "code",
      "source": [
        "doc_topic = model.doc_topic_\n",
        "for i in range(10):\n",
        "     print(\"{} (top topic: {})\".format(titles[i], doc_topic[i].argmax()))"
      ],
      "metadata": {
        "colab": {
          "base_uri": "https://localhost:8080/"
        },
        "id": "S4MUSp60CHgv",
        "outputId": "65920004-bf6f-46d8-cbb8-b9eba186c8f6"
      },
      "execution_count": 9,
      "outputs": [
        {
          "output_type": "stream",
          "name": "stdout",
          "text": [
            "0 UK: Prince Charles spearheads British royal revolution. LONDON 1996-08-20 (top topic: 8)\n",
            "1 GERMANY: Historic Dresden church rising from WW2 ashes. DRESDEN, Germany 1996-08-21 (top topic: 13)\n",
            "2 INDIA: Mother Teresa's condition said still unstable. CALCUTTA 1996-08-23 (top topic: 14)\n",
            "3 UK: Palace warns British weekly over Charles pictures. LONDON 1996-08-25 (top topic: 8)\n",
            "4 INDIA: Mother Teresa, slightly stronger, blesses nuns. CALCUTTA 1996-08-25 (top topic: 14)\n",
            "5 INDIA: Mother Teresa's condition unchanged, thousands pray. CALCUTTA 1996-08-25 (top topic: 14)\n",
            "6 INDIA: Mother Teresa shows signs of strength, blesses nuns. CALCUTTA 1996-08-26 (top topic: 14)\n",
            "7 INDIA: Mother Teresa's condition improves, many pray. CALCUTTA, India 1996-08-25 (top topic: 14)\n",
            "8 INDIA: Mother Teresa improves, nuns pray for \"miracle\". CALCUTTA 1996-08-26 (top topic: 14)\n",
            "9 UK: Charles under fire over prospect of Queen Camilla. LONDON 1996-08-26 (top topic: 8)\n"
          ]
        }
      ]
    }
  ]
}